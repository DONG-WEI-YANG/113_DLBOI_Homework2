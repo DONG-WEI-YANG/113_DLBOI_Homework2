{
 "cells": [
  {
   "cell_type": "markdown",
   "metadata": {},
   "source": [
    "# **Homework 2**"
   ]
  },
  {
   "cell_type": "markdown",
   "metadata": {
    "id": "EppuFnbCtNIL"
   },
   "source": [
    "## **Basis of Numpy Library**"
   ]
  },
  {
   "cell_type": "markdown",
   "metadata": {
    "id": "E0InkejMaoc0"
   },
   "source": [
    "Numpy is the core library for scientific computing in Python. It provides a high-performance multidimensional array object and tools for working with these **arrays**."
   ]
  },
  {
   "cell_type": "markdown",
   "metadata": {
    "id": "1v3TemB-as9m"
   },
   "source": [
    "To use Numpy, we first need to import the `numpy` package:"
   ]
  },
  {
   "cell_type": "code",
   "execution_count": 1,
   "metadata": {
    "id": "wkdPPs8Ual1P"
   },
   "outputs": [],
   "source": [
    "# import library\n",
    "import numpy as np"
   ]
  },
  {
   "cell_type": "markdown",
   "metadata": {
    "id": "WmaZo-Cwai-R"
   },
   "source": [
    "### **Arrays**"
   ]
  },
  {
   "cell_type": "markdown",
   "metadata": {
    "id": "Omuw2muIbUf-"
   },
   "source": [
    "- A numpy array is a grid of values, all of the same type, and is indexed by a tuple of nonnegative integers.\n",
    "\n",
    "- The number of dimensions is the rank of the array;\n",
    "\n",
    "- The shape of an array is a tuple of integers giving the size of the array along each dimension."
   ]
  },
  {
   "cell_type": "markdown",
   "metadata": {
    "id": "XwMFcAYGHMe1"
   },
   "source": [
    "**Exercise:**\n",
    "- What is an **array**?\n",
    "- Give an example that can be represented by an array."
   ]
  },
  {
   "cell_type": "code",
   "execution_count": 14,
   "metadata": {
    "id": "GqHLJVRAaYm5"
   },
   "outputs": [
    {
     "name": "stdout",
     "output_type": "stream",
     "text": [
      "[1 2 3 4 5]\n"
     ]
    }
   ],
   "source": [
    "# create 1d array\n",
    "import numpy as np\n",
    "array_1d = np.array([1, 2, 3, 4, 5])\n",
    "print(array_1d)"
   ]
  },
  {
   "cell_type": "code",
   "execution_count": 16,
   "metadata": {
    "id": "bCWi5Xo8bjuB"
   },
   "outputs": [
    {
     "name": "stdout",
     "output_type": "stream",
     "text": [
      "(5,)\n"
     ]
    }
   ],
   "source": [
    "# print shape\n",
    "import numpy as np\n",
    "array_1d = np.array([1, 2, 3, 4, 5])\n",
    "print(array_1d.shape)"
   ]
  },
  {
   "cell_type": "code",
   "execution_count": 15,
   "metadata": {
    "id": "OR6kuX1IbyuK"
   },
   "outputs": [
    {
     "name": "stdout",
     "output_type": "stream",
     "text": [
      "[[1 2 3]\n",
      " [4 5 6]]\n"
     ]
    }
   ],
   "source": [
    "# create 2d array\n",
    "import numpy as np\n",
    "array_2d =np.array([[1, 2, 3],[4, 5, 6]])\n",
    "print(array_2d)"
   ]
  },
  {
   "cell_type": "code",
   "execution_count": 1,
   "metadata": {
    "id": "27cuNwgLcTRm"
   },
   "outputs": [
    {
     "name": "stdout",
     "output_type": "stream",
     "text": [
      "(2, 3)\n"
     ]
    }
   ],
   "source": [
    "# print shape\n",
    "import numpy as np\n",
    "array_2d =np.array([[1, 2, 3],[4, 5, 6]])\n",
    "print(array_2d.shape)"
   ]
  },
  {
   "cell_type": "code",
   "execution_count": 2,
   "metadata": {
    "id": "nbSMAgoDcZxz"
   },
   "outputs": [
    {
     "name": "stdout",
     "output_type": "stream",
     "text": [
      "[[[ 1  2  3]\n",
      "  [ 4  5  6]]\n",
      "\n",
      " [[11 12 13]\n",
      "  [14 15 16]]]\n",
      "3\n"
     ]
    }
   ],
   "source": [
    "# create 3d array\n",
    "import numpy as np\n",
    "array_3d =np.array([[[1, 2, 3],[4, 5, 6]],[[11,12,13],[14,15,16]]])\n",
    "print(array_3d)\n",
    "print (array_3d.ndim)"
   ]
  },
  {
   "cell_type": "code",
   "execution_count": 15,
   "metadata": {
    "id": "mvSWGMOScgGo"
   },
   "outputs": [
    {
     "name": "stdout",
     "output_type": "stream",
     "text": [
      "(2, 2, 3)\n",
      "3\n"
     ]
    }
   ],
   "source": [
    "# print shape\n",
    "import numpy as np\n",
    "array_3d =np.array([[[1, 2, 3],[4, 5, 6]],[[11,12,13],[14,15,16]]])\n",
    "print(array_3d.shape)\n",
    "print(array_3d.ndim)"
   ]
  },
  {
   "cell_type": "markdown",
   "metadata": {
    "id": "QdGQ0zYAeG75"
   },
   "source": [
    "### **Array Indexing**"
   ]
  },
  {
   "cell_type": "code",
   "execution_count": 5,
   "metadata": {
    "id": "zdCkuMr6eHiD"
   },
   "outputs": [
    {
     "name": "stdout",
     "output_type": "stream",
     "text": [
      "2\n"
     ]
    }
   ],
   "source": [
    "# print the second element in your 1d array\n",
    "import numpy as np\n",
    "array_1d = np.array([1, 2, 3, 4, 5])\n",
    "print(array_1d[1])"
   ]
  },
  {
   "cell_type": "code",
   "execution_count": 3,
   "metadata": {
    "id": "op2QqmpPeYck"
   },
   "outputs": [
    {
     "name": "stdout",
     "output_type": "stream",
     "text": [
      "2\n"
     ]
    }
   ],
   "source": [
    "# print the first row second element in your 2d array\n",
    "import numpy as np\n",
    "array_2d =np.array([[1, 2, 3],[4, 5, 6]])\n",
    "print(array_2d[0,1])"
   ]
  },
  {
   "cell_type": "code",
   "execution_count": 13,
   "metadata": {
    "id": "vjPpPvaAfZSW"
   },
   "outputs": [
    {
     "name": "stdout",
     "output_type": "stream",
     "text": [
      "2\n"
     ]
    }
   ],
   "source": [
    "# print the first rank first row second element in your 3d array\n",
    "import numpy as np\n",
    "array_3d =np.array([[[1, 2, 3],[4, 5, 6]],[[11,12,13],[14,15,16]]])\n",
    "print(array_3d[0,0,1])"
   ]
  },
  {
   "cell_type": "markdown",
   "metadata": {
    "id": "u6KW251LhV6s"
   },
   "source": [
    "### **Array Operations**"
   ]
  },
  {
   "cell_type": "code",
   "execution_count": 3,
   "metadata": {
    "id": "Br1t_huKhYt_"
   },
   "outputs": [
    {
     "name": "stdout",
     "output_type": "stream",
     "text": [
      "[[ 6  8]\n",
      " [10 12]]\n",
      "[[ 6  8]\n",
      " [10 12]]\n"
     ]
    }
   ],
   "source": [
    "# create 2 2d-array\n",
    "import numpy as np\n",
    "x = np.array([[1, 2],[3, 4]], dtype=int)\n",
    "y = np.array([[5, 6],[7, 8]], dtype=int)\n",
    "# Elementwise sum; both produce an array\n",
    "print(x + y)\n",
    "print(np.add(x, y))"
   ]
  },
  {
   "cell_type": "code",
   "execution_count": 5,
   "metadata": {
    "id": "hdbcX4o1jIUC"
   },
   "outputs": [
    {
     "name": "stdout",
     "output_type": "stream",
     "text": [
      "[[-4 -4]\n",
      " [-4 -4]]\n",
      "[[-4 -4]\n",
      " [-4 -4]]\n"
     ]
    }
   ],
   "source": [
    "# Elementwise difference; both produce an array\n",
    "import numpy as np\n",
    "x = np.array([[1, 2],[3, 4]], dtype=int)\n",
    "y = np.array([[5, 6],[7, 8]], dtype=int)\n",
    "print(x - y)\n",
    "print(np.subtract(x, y))\n"
   ]
  },
  {
   "cell_type": "code",
   "execution_count": 6,
   "metadata": {
    "id": "kDpq2bjKjRaV"
   },
   "outputs": [
    {
     "name": "stdout",
     "output_type": "stream",
     "text": [
      "[[0.2        0.33333333]\n",
      " [0.42857143 0.5       ]]\n",
      "[[0.2        0.33333333]\n",
      " [0.42857143 0.5       ]]\n"
     ]
    }
   ],
   "source": [
    "# Elementwise division; both produce an array\n",
    "import numpy as np\n",
    "x = np.array([[1, 2],[3, 4]], dtype=int)\n",
    "y = np.array([[5, 6],[7, 8]], dtype=int)\n",
    "print(x / y)\n",
    "print(np.divide(x, y))"
   ]
  },
  {
   "cell_type": "code",
   "execution_count": 7,
   "metadata": {
    "id": "4PvxB3fmjIwS"
   },
   "outputs": [
    {
     "name": "stdout",
     "output_type": "stream",
     "text": [
      "[[ 5 12]\n",
      " [21 32]]\n",
      "[[ 5 12]\n",
      " [21 32]]\n"
     ]
    }
   ],
   "source": [
    "# Elementwise product; both produce the array\n",
    "import numpy as np\n",
    "x = np.array([[1, 2],[3, 4]], dtype=int)\n",
    "y = np.array([[5, 6],[7, 8]], dtype=int)\n",
    "print(x * y)\n",
    "print(np.multiply(x, y))"
   ]
  },
  {
   "cell_type": "code",
   "execution_count": null,
   "metadata": {
    "id": "uo6lLN9pYVCY"
   },
   "outputs": [],
   "source": [
    "# Dot product or matrix multiplication\n"
   ]
  },
  {
   "cell_type": "markdown",
   "metadata": {
    "id": "_U0Lf-5GZIfo"
   },
   "source": [
    "## Basis of OpenCV"
   ]
  },
  {
   "cell_type": "code",
   "execution_count": null,
   "metadata": {
    "colab": {
     "base_uri": "https://localhost:8080/"
    },
    "id": "pvmfH2c_ZMu5",
    "outputId": "95c56735-ca75-4bbf-e1ac-e90a0d710015"
   },
   "outputs": [
    {
     "name": "stdout",
     "output_type": "stream",
     "text": [
      "Mounted at /content/drive/\n"
     ]
    }
   ],
   "source": [
    "from google.colab import drive\n",
    "drive.mount('/content/drive/')"
   ]
  },
  {
   "cell_type": "code",
   "execution_count": null,
   "metadata": {
    "id": "f1b7B7QodWKV"
   },
   "outputs": [],
   "source": [
    "# read file\n",
    "import cv2\n",
    "from google.colab.patches import cv2_imshow\n",
    "\n",
    "filename = '/content/drive/MyDrive/PhD/DLBOI/HW2/hw2.png' # your file path\n"
   ]
  },
  {
   "cell_type": "code",
   "execution_count": null,
   "metadata": {
    "id": "sq9Gwh3xepCt"
   },
   "outputs": [],
   "source": [
    "# Rotate\n"
   ]
  },
  {
   "cell_type": "code",
   "execution_count": null,
   "metadata": {
    "id": "oRpSqegse8jQ"
   },
   "outputs": [],
   "source": [
    "# Denoise by filter\n"
   ]
  },
  {
   "cell_type": "code",
   "execution_count": null,
   "metadata": {
    "id": "COOKR1uTzcnb"
   },
   "outputs": [],
   "source": []
  }
 ],
 "metadata": {
  "colab": {
   "provenance": [],
   "toc_visible": true
  },
  "kernelspec": {
   "display_name": "Python 3 (ipykernel)",
   "language": "python",
   "name": "python3"
  },
  "language_info": {
   "codemirror_mode": {
    "name": "ipython",
    "version": 3
   },
   "file_extension": ".py",
   "mimetype": "text/x-python",
   "name": "python",
   "nbconvert_exporter": "python",
   "pygments_lexer": "ipython3",
   "version": "3.12.1"
  }
 },
 "nbformat": 4,
 "nbformat_minor": 1
}
