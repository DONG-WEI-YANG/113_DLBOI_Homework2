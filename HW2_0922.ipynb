{
 "cells": [
  {
   "cell_type": "markdown",
   "metadata": {},
   "source": [
    "# **Homework 2**"
   ]
  },
  {
   "cell_type": "markdown",
   "metadata": {
    "id": "EppuFnbCtNIL"
   },
   "source": [
    "## **Basis of Numpy Library**"
   ]
  },
  {
   "cell_type": "markdown",
   "metadata": {
    "id": "E0InkejMaoc0"
   },
   "source": [
    "Numpy is the core library for scientific computing in Python. It provides a high-performance multidimensional array object and tools for working with these **arrays**."
   ]
  },
  {
   "cell_type": "markdown",
   "metadata": {
    "id": "1v3TemB-as9m"
   },
   "source": [
    "To use Numpy, we first need to import the `numpy` package:"
   ]
  },
  {
   "cell_type": "code",
   "execution_count": 1,
   "metadata": {
    "id": "wkdPPs8Ual1P"
   },
   "outputs": [],
   "source": [
    "# import library\n",
    "import numpy as np"
   ]
  },
  {
   "cell_type": "markdown",
   "metadata": {
    "id": "WmaZo-Cwai-R"
   },
   "source": [
    "### **Arrays**"
   ]
  },
  {
   "cell_type": "markdown",
   "metadata": {
    "id": "Omuw2muIbUf-"
   },
   "source": [
    "- A numpy array is a grid of values, all of the same type, and is indexed by a tuple of nonnegative integers.\n",
    "\n",
    "- The number of dimensions is the rank of the array;\n",
    "\n",
    "- The shape of an array is a tuple of integers giving the size of the array along each dimension."
   ]
  },
  {
   "cell_type": "markdown",
   "metadata": {
    "id": "XwMFcAYGHMe1"
   },
   "source": [
    "**Exercise:**\n",
    "- What is an **array**?\n",
    "- Give an example that can be represented by an array."
   ]
  },
  {
   "cell_type": "code",
   "execution_count": 14,
   "metadata": {
    "id": "GqHLJVRAaYm5"
   },
   "outputs": [
    {
     "name": "stdout",
     "output_type": "stream",
     "text": [
      "[1 2 3 4 5]\n"
     ]
    }
   ],
   "source": [
    "# create 1d array\n",
    "import numpy as np\n",
    "array_1d = np.array([1, 2, 3, 4, 5])\n",
    "print(array_1d)"
   ]
  },
  {
   "cell_type": "code",
   "execution_count": 16,
   "metadata": {
    "id": "bCWi5Xo8bjuB"
   },
   "outputs": [
    {
     "name": "stdout",
     "output_type": "stream",
     "text": [
      "(5,)\n"
     ]
    }
   ],
   "source": [
    "# print shape\n",
    "import numpy as np\n",
    "array_1d = np.array([1, 2, 3, 4, 5])\n",
    "print(array_1d.shape)"
   ]
  },
  {
   "cell_type": "code",
   "execution_count": 15,
   "metadata": {
    "id": "OR6kuX1IbyuK"
   },
   "outputs": [
    {
     "name": "stdout",
     "output_type": "stream",
     "text": [
      "[[1 2 3]\n",
      " [4 5 6]]\n"
     ]
    }
   ],
   "source": [
    "# create 2d array\n",
    "import numpy as np\n",
    "array_2d =np.array([[1, 2, 3],[4, 5, 6]])\n",
    "print(array_2d)"
   ]
  },
  {
   "cell_type": "code",
   "execution_count": 1,
   "metadata": {
    "id": "27cuNwgLcTRm"
   },
   "outputs": [
    {
     "name": "stdout",
     "output_type": "stream",
     "text": [
      "(2, 3)\n"
     ]
    }
   ],
   "source": [
    "# print shape\n",
    "import numpy as np\n",
    "array_2d =np.array([[1, 2, 3],[4, 5, 6]])\n",
    "print(array_2d.shape)"
   ]
  },
  {
   "cell_type": "code",
   "execution_count": 2,
   "metadata": {
    "id": "nbSMAgoDcZxz"
   },
   "outputs": [
    {
     "name": "stdout",
     "output_type": "stream",
     "text": [
      "[[[ 1  2  3]\n",
      "  [ 4  5  6]]\n",
      "\n",
      " [[11 12 13]\n",
      "  [14 15 16]]]\n",
      "3\n"
     ]
    }
   ],
   "source": [
    "# create 3d array\n",
    "import numpy as np\n",
    "array_3d =np.array([[[1, 2, 3],[4, 5, 6]],[[11,12,13],[14,15,16]]])\n",
    "print(array_3d)\n",
    "print (array_3d.ndim)"
   ]
  },
  {
   "cell_type": "code",
   "execution_count": 15,
   "metadata": {
    "id": "mvSWGMOScgGo"
   },
   "outputs": [
    {
     "name": "stdout",
     "output_type": "stream",
     "text": [
      "(2, 2, 3)\n",
      "3\n"
     ]
    }
   ],
   "source": [
    "# print shape\n",
    "import numpy as np\n",
    "array_3d =np.array([[[1, 2, 3],[4, 5, 6]],[[11,12,13],[14,15,16]]])\n",
    "print(array_3d.shape)\n",
    "print(array_3d.ndim)"
   ]
  },
  {
   "cell_type": "markdown",
   "metadata": {
    "id": "QdGQ0zYAeG75"
   },
   "source": [
    "### **Array Indexing**"
   ]
  },
  {
   "cell_type": "code",
   "execution_count": 5,
   "metadata": {
    "id": "zdCkuMr6eHiD"
   },
   "outputs": [
    {
     "name": "stdout",
     "output_type": "stream",
     "text": [
      "2\n"
     ]
    }
   ],
   "source": [
    "# print the second element in your 1d array\n",
    "import numpy as np\n",
    "array_1d = np.array([1, 2, 3, 4, 5])\n",
    "print(array_1d[1])"
   ]
  },
  {
   "cell_type": "code",
   "execution_count": 3,
   "metadata": {
    "id": "op2QqmpPeYck"
   },
   "outputs": [
    {
     "name": "stdout",
     "output_type": "stream",
     "text": [
      "2\n"
     ]
    }
   ],
   "source": [
    "# print the first row second element in your 2d array\n",
    "import numpy as np\n",
    "array_2d =np.array([[1, 2, 3],[4, 5, 6]])\n",
    "print(array_2d[0,1])"
   ]
  },
  {
   "cell_type": "code",
   "execution_count": 13,
   "metadata": {
    "id": "vjPpPvaAfZSW"
   },
   "outputs": [
    {
     "name": "stdout",
     "output_type": "stream",
     "text": [
      "2\n"
     ]
    }
   ],
   "source": [
    "# print the first rank first row second element in your 3d array\n",
    "import numpy as np\n",
    "array_3d =np.array([[[1, 2, 3],[4, 5, 6]],[[11,12,13],[14,15,16]]])\n",
    "print(array_3d[0,0,1])"
   ]
  },
  {
   "cell_type": "markdown",
   "metadata": {
    "id": "u6KW251LhV6s"
   },
   "source": [
    "### **Array Operations**"
   ]
  },
  {
   "cell_type": "code",
   "execution_count": 18,
   "metadata": {
    "id": "Br1t_huKhYt_"
   },
   "outputs": [
    {
     "name": "stdout",
     "output_type": "stream",
     "text": [
      "[[4 4 4]\n",
      " [4 4 4]\n",
      " [4 4 4]]\n"
     ]
    }
   ],
   "source": [
    "# create 2 2d-array\n",
    "import numpy as np\n",
    "arr1=np.full((3,3),2,dtype=int)\n",
    "arr2=np.full((3,3),2,dtype=int)\n",
    "# Elementwise sum; both produce an array\n",
    "print(arr1+arr2)"
   ]
  },
  {
   "cell_type": "code",
   "execution_count": 12,
   "metadata": {
    "id": "hdbcX4o1jIUC"
   },
   "outputs": [
    {
     "ename": "ValueError",
     "evalue": "operands could not be broadcast together with shapes (5,) (4,) ",
     "output_type": "error",
     "traceback": [
      "\u001b[0;31m---------------------------------------------------------------------------\u001b[0m",
      "\u001b[0;31mValueError\u001b[0m                                Traceback (most recent call last)",
      "Cell \u001b[0;32mIn[12], line 6\u001b[0m\n\u001b[1;32m      4\u001b[0m array_2d_B\u001b[38;5;241m=\u001b[39mnp\u001b[38;5;241m.\u001b[39marray(\u001b[38;5;28mrange\u001b[39m(\u001b[38;5;241m4\u001b[39m))\n\u001b[1;32m      5\u001b[0m \u001b[38;5;66;03m# Elementwise sum; both produce an array\u001b[39;00m\n\u001b[0;32m----> 6\u001b[0m result\u001b[38;5;241m=\u001b[39mnp\u001b[38;5;241m.\u001b[39marray(\u001b[43marray_2d_A\u001b[49m\u001b[38;5;241;43m*\u001b[39;49m\u001b[43marray_2d_B\u001b[49m)\n\u001b[1;32m      7\u001b[0m \u001b[38;5;28mprint\u001b[39m(array_2d_A\u001b[38;5;241m.\u001b[39mshape)\n\u001b[1;32m      8\u001b[0m \u001b[38;5;28mprint\u001b[39m(array_2d_B\u001b[38;5;241m.\u001b[39mshape)\n",
      "\u001b[0;31mValueError\u001b[0m: operands could not be broadcast together with shapes (5,) (4,) "
     ]
    }
   ],
   "source": [
    "# Elementwise difference; both produce an array\n",
    "import numpy as np\n",
    "array_2d_A=np.array(range(5))\n",
    "array_2d_B=np.array(range(4))\n",
    "# Elementwise sum; both produce an array\n",
    "result=np.array(array_2d_A*array_2d_B)\n",
    "print(array_2d_A.shape)\n",
    "print(array_2d_B.shape)\n",
    "print(result)"
   ]
  },
  {
   "cell_type": "code",
   "execution_count": null,
   "metadata": {
    "id": "kDpq2bjKjRaV"
   },
   "outputs": [],
   "source": [
    "# Elementwise division; both produce an array\n"
   ]
  },
  {
   "cell_type": "code",
   "execution_count": null,
   "metadata": {
    "id": "4PvxB3fmjIwS"
   },
   "outputs": [],
   "source": [
    "# Elementwise product; both produce the array\n"
   ]
  },
  {
   "cell_type": "code",
   "execution_count": null,
   "metadata": {
    "id": "uo6lLN9pYVCY"
   },
   "outputs": [],
   "source": [
    "# Dot product or matrix multiplication\n"
   ]
  },
  {
   "cell_type": "markdown",
   "metadata": {
    "id": "_U0Lf-5GZIfo"
   },
   "source": [
    "## Basis of OpenCV"
   ]
  },
  {
   "cell_type": "code",
   "execution_count": null,
   "metadata": {
    "colab": {
     "base_uri": "https://localhost:8080/"
    },
    "id": "pvmfH2c_ZMu5",
    "outputId": "95c56735-ca75-4bbf-e1ac-e90a0d710015"
   },
   "outputs": [
    {
     "name": "stdout",
     "output_type": "stream",
     "text": [
      "Mounted at /content/drive/\n"
     ]
    }
   ],
   "source": [
    "from google.colab import drive\n",
    "drive.mount('/content/drive/')"
   ]
  },
  {
   "cell_type": "code",
   "execution_count": null,
   "metadata": {
    "id": "f1b7B7QodWKV"
   },
   "outputs": [],
   "source": [
    "# read file\n",
    "import cv2\n",
    "from google.colab.patches import cv2_imshow\n",
    "\n",
    "filename = '/content/drive/MyDrive/PhD/DLBOI/HW2/hw2.png' # your file path\n"
   ]
  },
  {
   "cell_type": "code",
   "execution_count": null,
   "metadata": {
    "id": "sq9Gwh3xepCt"
   },
   "outputs": [],
   "source": [
    "# Rotate\n"
   ]
  },
  {
   "cell_type": "code",
   "execution_count": null,
   "metadata": {
    "id": "oRpSqegse8jQ"
   },
   "outputs": [],
   "source": [
    "# Denoise by filter\n"
   ]
  },
  {
   "cell_type": "code",
   "execution_count": null,
   "metadata": {
    "id": "COOKR1uTzcnb"
   },
   "outputs": [],
   "source": []
  }
 ],
 "metadata": {
  "colab": {
   "provenance": [],
   "toc_visible": true
  },
  "kernelspec": {
   "display_name": "Python 3 (ipykernel)",
   "language": "python",
   "name": "python3"
  },
  "language_info": {
   "codemirror_mode": {
    "name": "ipython",
    "version": 3
   },
   "file_extension": ".py",
   "mimetype": "text/x-python",
   "name": "python",
   "nbconvert_exporter": "python",
   "pygments_lexer": "ipython3",
   "version": "3.12.1"
  }
 },
 "nbformat": 4,
 "nbformat_minor": 1
}
